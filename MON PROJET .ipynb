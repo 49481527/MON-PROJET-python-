{
 "cells": [
  {
   "cell_type": "markdown",
   "id": "a00d68c6",
   "metadata": {},
   "source": [
    "## MON PROJET "
   ]
  },
  {
   "cell_type": "code",
   "execution_count": null,
   "id": "f33d624a",
   "metadata": {},
   "outputs": [],
   "source": []
  },
  {
   "cell_type": "markdown",
   "id": "0e38a636",
   "metadata": {},
   "source": [
    "###  Jeu Pierre Feuille Ciseaux"
   ]
  },
  {
   "cell_type": "code",
   "execution_count": null,
   "id": "e6a8223d",
   "metadata": {},
   "outputs": [],
   "source": []
  },
  {
   "cell_type": "code",
   "execution_count": null,
   "id": "4f293780",
   "metadata": {},
   "outputs": [],
   "source": []
  },
  {
   "cell_type": "code",
   "execution_count": null,
   "id": "3b5ef358",
   "metadata": {},
   "outputs": [],
   "source": []
  },
  {
   "cell_type": "code",
   "execution_count": 26,
   "id": "a9897b6a",
   "metadata": {},
   "outputs": [],
   "source": [
    "import tkinter as tk\n",
    "import random\n",
    "\n",
    "def play(player_choice):\n",
    "    \"\"\"Joue un tour de Pierre-Papier-Ciseaux contre l'ordinateur.\"\"\"\n",
    "    choices = [\"Pierre\", \"Papier\", \"Ciseaux\"]\n",
    "    computer_choice = random.choice(choices)\n",
    "    \n",
    "    if player_choice == computer_choice:\n",
    "        result = \"Égalité!\"\n",
    "    elif (player_choice == \"Pierre\" and computer_choice == \"Ciseaux\") or \\\n",
    "         (player_choice == \"Ciseaux\" and computer_choice == \"Papier\") or \\\n",
    "         (player_choice == \"Papier\" and computer_choice == \"Pierre\"):\n",
    "        result = f\"Vous gagnez! {player_choice} bat {computer_choice}\"\n",
    "    else:\n",
    "        result = f\"Vous perdez! {computer_choice} bat {player_choice}\"\n",
    "    \n",
    "    lbl_result.config(text=result)\n",
    "    lbl_computer_choice.config(text=f\"L'ordinateur a choisi: {computer_choice}\")\n",
    "\n",
    "# Créer la fenêtre principale\n",
    "window = tk.Tk()\n",
    "window.title(\"Pierre-Papier-Ciseaux\")\n",
    "\n",
    "# Créer les widgets pour le choix du joueur\n",
    "lbl_instruction = tk.Label(master=window, text=\"Choisissez Papier ou Ciseaux:\",\n",
    "                                                                            width=100,\n",
    "                                                                            height=3,\n",
    "                                                                            bg=\"gray\",\n",
    "                                                                            fg=\"white\")\n",
    "lbl_instruction.pack()\n",
    "\n",
    "frm_buttons = tk.Frame(master=window)\n",
    "frm_buttons.pack()\n",
    "\n",
    "btn_pierre = tk.Button(master=frm_buttons, text=\"Pierre\", command=lambda: play(\"Pierre\") ,\n",
    "                                                                            bg=\"orange\",\n",
    "                                                                            fg=\"white\")\n",
    "btn_pierre.grid(row=0, column=0, padx=10)\n",
    "\n",
    "btn_papier = tk.Button(master=frm_buttons, text=\"Papier\", command=lambda: play(\"Papier\") ,\n",
    "                                                                            bg=\"red\",\n",
    "                                                                            fg=\"white\")\n",
    "btn_papier.grid(row=0, column=1, padx=10)\n",
    "\n",
    "btn_ciseaux = tk.Button(master=frm_buttons, text=\"Ciseaux\", command=lambda: play(\"Ciseaux\"),\n",
    "                                                                                  bg=\"green\", \n",
    "                                                                                 fg=\"white\")\n",
    "btn_ciseaux.grid(row=0, column=2, padx=10)\n",
    "\n",
    "# Créer les widgets pour afficher le résultat\n",
    "lbl_result = tk.Label(master=window, text=\"Résultat: \",\n",
    "                                                     )\n",
    "lbl_result.pack(pady=10)\n",
    "\n",
    "lbl_computer_choice = tk.Label(master=window, text=\"L'ordinateur a choisi: \",\n",
    "                                                                         bg=\"blue\",\n",
    "                                                                            fg=\"white\")\n",
    "lbl_computer_choice.pack(pady=10)\n",
    "\n",
    "# Démarrer la boucle d'événements\n",
    "window.mainloop()\n"
   ]
  },
  {
   "cell_type": "code",
   "execution_count": null,
   "id": "d5dff364",
   "metadata": {},
   "outputs": [],
   "source": []
  }
 ],
 "metadata": {
  "kernelspec": {
   "display_name": "Python 3 (ipykernel)",
   "language": "python",
   "name": "python3"
  },
  "language_info": {
   "codemirror_mode": {
    "name": "ipython",
    "version": 3
   },
   "file_extension": ".py",
   "mimetype": "text/x-python",
   "name": "python",
   "nbconvert_exporter": "python",
   "pygments_lexer": "ipython3",
   "version": "3.11.7"
  }
 },
 "nbformat": 4,
 "nbformat_minor": 5
}
